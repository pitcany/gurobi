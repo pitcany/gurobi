{
 "cells": [
  {
   "cell_type": "markdown",
   "id": "a3aeead9",
   "metadata": {},
   "source": [
    "# Welcome to the Land of Generative AI and Mathematical Optimization on Gurobi!\n",
    "\n",
    "## Our goal...\n",
    "We will be revisiting the casino chip production problem, but this time, we will leverage our Gurobot assistant. In the beginning, we will simply start with the basic problem setup for the casino chip production problem. From there, we will assess the problem in increasing complexity:\n",
    "\n",
    "## Challenges\n",
    "- Help me define the basic problem\n",
    "- Let's adjust the objective function equation\n",
    "- How about three new business constraints?\n",
    "\n",
    "## Extra Challenges\n",
    "- Moving to a single factory to three casino expansion\n",
    "- Moving from fixed demand to variable and logarithmic demand (nonlinearity)\n",
    "- Extending to three factories to three casinos\n",
    "- Introducing transportation cost balancing\n",
    "\n",
    "## Tools you can use:\n",
    "- [Gurobot](https://portal.gurobi.com/iam/chat)\n",
    "    - NOTE: You will need to create an account\n",
    "- Gurobo AI Modeling\n",
    "    - [Prompt Engineer](https://chatgpt.com/g/g-JK2EuyVOt-gurobi-ai-modeling-prompt-engineer)\n",
    "    - [Modeling Assistant](https://chatgpt.com/g/g-g69cy3XAp-gurobi-ai-modeling-assistant)\n",
    "- Any other LLM you want!"
   ]
  },
  {
   "cell_type": "markdown",
   "id": "62a3f950-bda1-443c-8a2a-e3222d4ac194",
   "metadata": {},
   "source": [
    "## Chat Flow"
   ]
  },
  {
   "cell_type": "markdown",
   "id": "07a52240-6f7a-47ea-8dab-ea487331b87a",
   "metadata": {},
   "source": [
    "### Prompt 1"
   ]
  },
  {
   "attachments": {},
   "cell_type": "markdown",
   "id": "3142b4d2",
   "metadata": {},
   "source": [
    "You are a data scientist tasked with optimizing the poker chip production at a casino. Management would like to make these new chips using the on-hand inventory of raw material. Right now, you are asked to manufacture the highest possible total value in poker chips. The denominations of chips are \\\\$1, \\\\$5, \\\\$10, \\\\$25, \\\\$100, \\\\$500, and \\\\$1000. Each denomination of chip requires a different amount of several raw materials.\n",
    "\n",
    "**Objective:**  \n",
    "Maximize total value of chips\n",
    "\n",
    "**Constraints:**\n",
    "\n",
    "- **Material Amount Constraint:** There are limited amounts of materials available across all poker chip types. \n",
    "\n",
    "The data recipe is the following:\n",
    "```python\n",
    "import gurobipy as gp\n",
    "\n",
    "ingredients, on_hand = gp.multidict(\n",
    "    {\n",
    "        \"clay\":      5000,\n",
    "        \"lead\":      1500,\n",
    "        \"silver\":     500,\n",
    "        \"gold\":        50,\n",
    "    }\n",
    ")\n",
    "\n",
    "recipes = { \n",
    "        (\"one\",          \"clay\"):  18.0, (\"one\",          \"lead\"):  0.0, (\"one\",          \"silver\"):  0, (\"one\",          \"gold\"):  0, \n",
    "        (\"five\",         \"clay\"):  16.0, (\"five\",         \"lead\"):  1.0, (\"five\",         \"silver\"):  0, (\"five\",         \"gold\"):  0, \n",
    "        (\"ten\",          \"clay\"):  15.0, (\"ten\",          \"lead\"):  2.0, (\"ten\",          \"silver\"):  0, (\"ten\",          \"gold\"):  0, \n",
    "        (\"twenty-five\",  \"clay\"):  13.0, (\"twenty-five\",  \"lead\"):  4.5, (\"twenty-five\",  \"silver\"):  0, (\"twenty-five\",  \"gold\"):  0, \n",
    "        (\"one hundred\",  \"clay\"):  10.0, (\"one hundred\",  \"lead\"):  6.0, (\"one hundred\",  \"silver\"):  1, (\"one hundred\",  \"gold\"):  0, \n",
    "        (\"five hundred\", \"clay\"):  10.0, (\"five hundred\", \"lead\"):  8.5, (\"five hundred\", \"silver\"):  2, (\"five hundred\", \"gold\"):  0, \n",
    "        (\"thousand\",     \"clay\"):  10.0, (\"thousand\",     \"lead\"):  9.5, (\"thousand\",     \"silver\"):  0, (\"thousand\",     \"gold\"):  2, \n",
    "}\n",
    "```\n"
   ]
  },
  {
   "cell_type": "markdown",
   "id": "c700ad49",
   "metadata": {},
   "source": [
    ">Optional: The following is the data recipe using gurobipy and pandas."
   ]
  },
  {
   "cell_type": "code",
   "execution_count": null,
   "id": "10cc9c8e",
   "metadata": {},
   "outputs": [],
   "source": [
    "import gurobipy as gp\n",
    "import pandas as pd\n",
    "\n",
    "# Convert ingredients to pandas dictionary\n",
    "ingredients_df = pd.DataFrame([\n",
    "    {\"ingredient\": \"clay\", \"on_hand\": 5000},\n",
    "    {\"ingredient\": \"lead\", \"on_hand\": 1500},\n",
    "    {\"ingredient\": \"silver\", \"on_hand\": 500},\n",
    "    {\"ingredient\": \"gold\", \"on_hand\": 50}\n",
    "])\n",
    "ingredients, on_hand = gp.multidict(ingredients_df.set_index(\"ingredient\")[\"on_hand\"].to_dict())\n",
    "\n",
    "# Convert recipes to pandas dictionary\n",
    "recipes_data = [\n",
    "    {\"chip\": \"one\", \"ingredient\": \"clay\", \"amount\": 18.0},\n",
    "    {\"chip\": \"one\", \"ingredient\": \"lead\", \"amount\": 0.0},\n",
    "    {\"chip\": \"one\", \"ingredient\": \"silver\", \"amount\": 0},\n",
    "    {\"chip\": \"one\", \"ingredient\": \"gold\", \"amount\": 0},\n",
    "    {\"chip\": \"five\", \"ingredient\": \"clay\", \"amount\": 16.0},\n",
    "    {\"chip\": \"five\", \"ingredient\": \"lead\", \"amount\": 1.0},\n",
    "    {\"chip\": \"five\", \"ingredient\": \"silver\", \"amount\": 0},\n",
    "    {\"chip\": \"five\", \"ingredient\": \"gold\", \"amount\": 0},\n",
    "    {\"chip\": \"ten\", \"ingredient\": \"clay\", \"amount\": 15.0},\n",
    "    {\"chip\": \"ten\", \"ingredient\": \"lead\", \"amount\": 2.0},\n",
    "    {\"chip\": \"ten\", \"ingredient\": \"silver\", \"amount\": 0},\n",
    "    {\"chip\": \"ten\", \"ingredient\": \"gold\", \"amount\": 0},\n",
    "    {\"chip\": \"twenty-five\", \"ingredient\": \"clay\", \"amount\": 13.0},\n",
    "    {\"chip\": \"twenty-five\", \"ingredient\": \"lead\", \"amount\": 4.5},\n",
    "    {\"chip\": \"twenty-five\", \"ingredient\": \"silver\", \"amount\": 0},\n",
    "    {\"chip\": \"twenty-five\", \"ingredient\": \"gold\", \"amount\": 0},\n",
    "    {\"chip\": \"one hundred\", \"ingredient\": \"clay\", \"amount\": 10.0},\n",
    "    {\"chip\": \"one hundred\", \"ingredient\": \"lead\", \"amount\": 6.0},\n",
    "    {\"chip\": \"one hundred\", \"ingredient\": \"silver\", \"amount\": 1},\n",
    "    {\"chip\": \"one hundred\", \"ingredient\": \"gold\", \"amount\": 0},\n",
    "    {\"chip\": \"five hundred\", \"ingredient\": \"clay\", \"amount\": 10.0},\n",
    "    {\"chip\": \"five hundred\", \"ingredient\": \"lead\", \"amount\": 8.5},\n",
    "    {\"chip\": \"five hundred\", \"ingredient\": \"silver\", \"amount\": 2},\n",
    "    {\"chip\": \"five hundred\", \"ingredient\": \"gold\", \"amount\": 0},\n",
    "    {\"chip\": \"thousand\", \"ingredient\": \"clay\", \"amount\": 10.0},\n",
    "    {\"chip\": \"thousand\", \"ingredient\": \"lead\", \"amount\": 9.5},\n",
    "    {\"chip\": \"thousand\", \"ingredient\": \"silver\", \"amount\": 0},\n",
    "    {\"chip\": \"thousand\", \"ingredient\": \"gold\", \"amount\": 2}\n",
    "]\n",
    "\n",
    "recipes_df = pd.DataFrame(recipes_data)\n",
    "recipes = recipes_df.set_index([\"chip\", \"ingredient\"])[\"amount\"].to_dict()"
   ]
  },
  {
   "cell_type": "markdown",
   "id": "b58ddce0",
   "metadata": {
    "jp-MarkdownHeadingCollapsed": true
   },
   "source": [
    "### Prompt 2"
   ]
  },
  {
   "cell_type": "markdown",
   "id": "eda082af-53d3-4bf5-b966-ceb6a0d09a2e",
   "metadata": {},
   "source": [
    "Instead of maximizing the total chip value, we are asked to maximize the total number of chips made. Write out this objective, and modify the previous responses to accommodate this new objective."
   ]
  },
  {
   "cell_type": "markdown",
   "id": "3c430591",
   "metadata": {
    "jp-MarkdownHeadingCollapsed": true
   },
   "source": [
    "### Prompt 3"
   ]
  },
  {
   "cell_type": "markdown",
   "id": "4ca3a4c7-6d20-4359-9a31-979e0169cc2f",
   "metadata": {},
   "source": [
    "I have received a new set of constraints from management. Here are they are:\n",
    "- The value produced by high value chips cannot exceed the 50% of the value produced by low value chips.\n",
    "- Each of the of low value chips must be at least 15% of the total chips made and each of the high value chips cannot be more than 25%. \n",
    "- The \\$25 chip is our most used; make sure that it has the maximum number among all chips.\n",
    "\n",
    "Please modify the code to accommodate the above three new constraints."
   ]
  },
  {
   "cell_type": "markdown",
   "id": "e8123a36",
   "metadata": {},
   "source": [
    "> NOTE ONLY (DO NOT INCLUDE) - Gurobot may prompt user for clarity on the definition of high value and low value chips.\n",
    ">\n",
    ">At this point in the chatflow, there is a possibility that the context window could be reached; therefore, it may be prudent to potentially begin a new chat with truncated code that contains just the model build."
   ]
  },
  {
   "cell_type": "markdown",
   "id": "2b651827-3b43-431d-b13d-6233d8b83500",
   "metadata": {
    "jp-MarkdownHeadingCollapsed": true
   },
   "source": [
    "### Prompt 4"
   ]
  },
  {
   "cell_type": "markdown",
   "id": "50a07104",
   "metadata": {},
   "source": [
    "Given the following Gurobi Python optimization program...\n",
    "\n",
    "```python\n",
    "def build_model(self):\n",
    "    \"\"\"Build the optimization model\"\"\"\n",
    "    with self.env.start():\n",
    "        self.model = gp.Model(\"PokerChipProduction_WithNewConstraints\", env=self.env)\n",
    "        # Decision variables: number of chips to produce for each type\n",
    "        self.x = self.model.addVars(self.chips, vtype=GRB.CONTINUOUS, name=\"chips\")\n",
    "        # Original material constraints\n",
    "        self.model.addConstrs(\n",
    "            (\n",
    "                gp.quicksum(\n",
    "                    self.recipes.get((chip, ingredient), 0) * self.x[chip]\n",
    "                    for chip in self.chips\n",
    "                )\n",
    "                <= self.on_hand[ingredient]\n",
    "                for ingredient in self.ingredients\n",
    "            ),\n",
    "            name=\"material_constraint\",\n",
    "        )\n",
    "        # NEW CONSTRAINT 1: Value produced by high value chips <= 50% of value produced by low value chips\n",
    "        high_value_total = gp.quicksum(\n",
    "            self.values[chip] * self.x[chip] for chip in self.high_value_chips\n",
    "        )\n",
    "        low_value_total = gp.quicksum(\n",
    "            self.values[chip] * self.x[chip] for chip in self.low_value_chips\n",
    "        )\n",
    "        self.model.addConstr(\n",
    "            high_value_total <= 0.5 * low_value_total, name=\"high_vs_low_value\"\n",
    "        )\n",
    "        # Total chips variable for percentage constraints\n",
    "        total_chips = gp.quicksum(self.x[chip] for chip in self.chips)\n",
    "        # NEW CONSTRAINT 2a: Each low value chip must be at least 15% of total chips\n",
    "        self.model.addConstrs(\n",
    "            (self.x[chip] >= 0.15 * total_chips for chip in self.low_value_chips),\n",
    "            name=\"low_value_min_15pct\",\n",
    "        )\n",
    "        # NEW CONSTRAINT 2b: Each high value chip cannot be more than 25% of total chips\n",
    "        self.model.addConstrs(\n",
    "            (self.x[chip] <= 0.25 * total_chips for chip in self.high_value_chips),\n",
    "            name=\"high_value_max_25pct\",\n",
    "        )\n",
    "        # NEW CONSTRAINT 3: $25 chip has maximum number among all chips\n",
    "        self.model.addConstrs(\n",
    "            (\n",
    "                self.x[\"twenty-five\"] >= self.x[chip]\n",
    "                for chip in self.chips\n",
    "                if chip != \"twenty-five\"\n",
    "            ),\n",
    "            name=\"twenty_five_maximum\",\n",
    "        )\n",
    "        # Objective: maximize total number of chips\n",
    "        self.model.setObjective(\n",
    "            gp.quicksum(self.x[chip] for chip in self.chips), GRB.MAXIMIZE\n",
    "        )\n",
    "```\n",
    "\n",
    "…management now wants to take into account that there is one single factory supplying chips for multiple casinos. Assume that there are 10 casinos each with unique fixed demands per chip denomination. Please create hypothetical fixed demand numbers. Finally, execute the new program and show logs."
   ]
  },
  {
   "cell_type": "markdown",
   "id": "e007ffa5-0498-4e48-8133-1796d99d2467",
   "metadata": {
    "jp-MarkdownHeadingCollapsed": true
   },
   "source": [
    "### Prompt 5"
   ]
  },
  {
   "cell_type": "markdown",
   "id": "c75f606f",
   "metadata": {},
   "source": [
    "Now please express the fixed demand constants from each of the three casinos per chip as decision variables contained in a natural logarithm. In this way, we expect that demand to have increasingly diminishing gains. All other parts of the model and code shall remain the same. \n",
    "\n",
    "Here is the following Gurobi Python optimization program to use...\n",
    "\n",
    "```python\n",
    "def build_model(self):\n",
    "    \"\"\"Build the optimization model\"\"\"\n",
    "    with self.env.start():\n",
    "        self.model = gp.Model(\"PokerChipProduction_WithNewConstraints\", env=self.env)\n",
    "        # Decision variables: number of chips to produce for each type\n",
    "        self.x = self.model.addVars(self.chips, vtype=GRB.CONTINUOUS, name=\"chips\")\n",
    "        # Original material constraints\n",
    "        self.model.addConstrs(\n",
    "            (\n",
    "                gp.quicksum(\n",
    "                    self.recipes.get((chip, ingredient), 0) * self.x[chip]\n",
    "                    for chip in self.chips\n",
    "                )\n",
    "                <= self.on_hand[ingredient]\n",
    "                for ingredient in self.ingredients\n",
    "            ),\n",
    "            name=\"material_constraint\",\n",
    "        )\n",
    "        # NEW CONSTRAINT 1: Value produced by high value chips <= 50% of value produced by low value chips\n",
    "        high_value_total = gp.quicksum(\n",
    "            self.values[chip] * self.x[chip] for chip in self.high_value_chips\n",
    "        )\n",
    "        low_value_total = gp.quicksum(\n",
    "            self.values[chip] * self.x[chip] for chip in self.low_value_chips\n",
    "        )\n",
    "        self.model.addConstr(\n",
    "            high_value_total <= 0.5 * low_value_total, name=\"high_vs_low_value\"\n",
    "        )\n",
    "        # Total chips variable for percentage constraints\n",
    "        total_chips = gp.quicksum(self.x[chip] for chip in self.chips)\n",
    "        # NEW CONSTRAINT 2a: Each low value chip must be at least 15% of total chips\n",
    "        self.model.addConstrs(\n",
    "            (self.x[chip] >= 0.15 * total_chips for chip in self.low_value_chips),\n",
    "            name=\"low_value_min_15pct\",\n",
    "        )\n",
    "        # NEW CONSTRAINT 2b: Each high value chip cannot be more than 25% of total chips\n",
    "        self.model.addConstrs(\n",
    "            (self.x[chip] <= 0.25 * total_chips for chip in self.high_value_chips),\n",
    "            name=\"high_value_max_25pct\",\n",
    "        )\n",
    "        # NEW CONSTRAINT 3: $25 chip has maximum number among all chips\n",
    "        self.model.addConstrs(\n",
    "            (\n",
    "                self.x[\"twenty-five\"] >= self.x[chip]\n",
    "                for chip in self.chips\n",
    "                if chip != \"twenty-five\"\n",
    "            ),\n",
    "            name=\"twenty_five_maximum\",\n",
    "        )\n",
    "        # Objective: maximize total number of chips\n",
    "        self.model.setObjective(\n",
    "            gp.quicksum(self.x[chip] for chip in self.chips), GRB.MAXIMIZE\n",
    "        )\n",
    "```\n",
    "\n",
    "Finally, execute the new program and show logs."
   ]
  },
  {
   "cell_type": "markdown",
   "id": "7ee96a96",
   "metadata": {},
   "source": [
    ">There is a possibility that Gurobot may respond that it does not have enough concrete data to continue on. In that case, the user may prompt Gurobot to infer the underlying data."
   ]
  },
  {
   "cell_type": "markdown",
   "id": "3c6bb6f5-bcb1-4f6d-9c1c-acf6684f84be",
   "metadata": {
    "jp-MarkdownHeadingCollapsed": true
   },
   "source": [
    "### Prompt 6"
   ]
  },
  {
   "cell_type": "markdown",
   "id": "8c97c1c3",
   "metadata": {},
   "source": [
    "Please take the model, extend this by accommodating production from three factories (instead of one) to three casinos.\n",
    "\n",
    "Here is the following Gurobi Python optimization program to use...\n",
    "\n",
    "```python\n",
    "    def build_model(self):\n",
    "        \"\"\"Build the optimization model for multiple casinos with logarithmic demand objective\"\"\"\n",
    "        with self.env.start():\n",
    "            self.model = gp.Model(\"PokerChipProduction_MultiCasino_LogDemand\", env=self.env)\n",
    "            \n",
    "            # Decision variables: number of chips to produce for each type and casino\n",
    "            self.x = self.model.addVars(self.casinos, self.chips, vtype=GRB.CONTINUOUS, \n",
    "                                      name=\"chips\", lb=0)\n",
    "            \n",
    "            # Logarithmic variables for the objective function\n",
    "            # We'll use log(production + min_demand) to ensure positive arguments\n",
    "            self.log_vars = self.model.addVars(self.casinos, self.chips, vtype=GRB.CONTINUOUS,\n",
    "                                             name=\"log_production\", lb=-GRB.INFINITY)\n",
    "            \n",
    "            # Add logarithmic constraints: log_vars[casino, chip] = ln(x[casino, chip] + min_demands[casino, chip])\n",
    "            for casino in self.casinos:\n",
    "                for chip in self.chips:\n",
    "                    # Create auxiliary variable for x + min_demand\n",
    "                    aux_var = self.model.addVar(vtype=GRB.CONTINUOUS, name=f\"aux_{casino}_{chip}\", \n",
    "                                              lb=self.min_demands[casino, chip])\n",
    "                    \n",
    "                    # aux_var = x + min_demand\n",
    "                    self.model.addConstr(aux_var == self.x[casino, chip] + self.min_demands[casino, chip],\n",
    "                                       name=f\"aux_def_{casino}_{chip}\")\n",
    "                    \n",
    "                    # log_vars = ln(aux_var)\n",
    "                    self.model.addGenConstrLog(aux_var, self.log_vars[casino, chip], \n",
    "                                             name=f\"log_constr_{casino}_{chip}\")\n",
    "            \n",
    "            # Material constraints: total production across all casinos cannot exceed available materials\n",
    "            self.model.addConstrs(\n",
    "                (gp.quicksum(self.recipes.get((chip, ingredient), 0) * self.x[casino, chip] \n",
    "                           for casino in self.casinos for chip in self.chips) <= self.on_hand[ingredient] \n",
    "                 for ingredient in self.ingredients), \n",
    "                name=\"material_constraint\"\n",
    "            )\n",
    "            \n",
    "            # Minimum demand constraints: must meet at least minimum demand for each casino and chip type\n",
    "            self.model.addConstrs(\n",
    "                (self.x[casino, chip] >= self.min_demands[casino, chip] \n",
    "                 for casino in self.casinos for chip in self.chips),\n",
    "                name=\"min_demand_constraint\"\n",
    "            )\n",
    "            \n",
    "            # For each casino, apply modified business constraints (more relaxed)\n",
    "            for casino in self.casinos:\n",
    "                # Total chips variable for percentage constraints (per casino)\n",
    "                total_chips = gp.quicksum(self.x[casino, chip] for chip in self.chips)\n",
    "                \n",
    "                # Modified constraint: Each low value chip must be at least 10% of total chips (reduced from 15%)\n",
    "                self.model.addConstrs(\n",
    "                    (self.x[casino, chip] >= 0.10 * total_chips for chip in self.low_value_chips),\n",
    "                    name=f\"low_value_min_10pct_{casino}\"\n",
    "                )\n",
    "                \n",
    "                # Modified constraint: Each high value chip cannot be more than 35% of total chips (increased from 25%)\n",
    "                self.model.addConstrs(\n",
    "                    (self.x[casino, chip] <= 0.35 * total_chips for chip in self.high_value_chips),\n",
    "                    name=f\"high_value_max_35pct_{casino}\"\n",
    "                )\n",
    "                \n",
    "                # Modified constraint: $25 chip should be among the higher production (relaxed)\n",
    "                # Instead of maximum, just ensure it's at least as much as $50 and $100 chips\n",
    "                self.model.addConstr(\n",
    "                    self.x[casino, \"twenty-five\"] >= self.x[casino, \"fifty\"],\n",
    "                    name=f\"twenty_five_vs_fifty_{casino}\"\n",
    "                )\n",
    "                self.model.addConstr(\n",
    "                    self.x[casino, \"twenty-five\"] >= self.x[casino, \"hundred\"],\n",
    "                    name=f\"twenty_five_vs_hundred_{casino}\"\n",
    "                )\n",
    "            \n",
    "            # NEW OBJECTIVE: maximize sum of logarithmic demand satisfaction (diminishing returns)\n",
    "            # This creates diminishing marginal utility as production increases\n",
    "            log_objective = gp.quicksum(\n",
    "                self.log_vars[casino, chip] for casino in self.casinos for chip in self.chips\n",
    "            )\n",
    "            \n",
    "            self.model.setObjective(log_objective, GRB.MAXIMIZE)\n",
    "            \n",
    "            print(\"Model built successfully with logarithmic demand objective!\")\n",
    "            print(f\"Variables: {self.model.NumVars}\")\n",
    "            print(f\"Constraints: {self.model.NumConstrs}\")\n",
    "            print(f\"General Constraints: {self.model.NumGenConstrs}\")\n",
    "```\n",
    "\n",
    "Finally, execute the new program and show logs."
   ]
  },
  {
   "cell_type": "markdown",
   "id": "29ef616b-fc4e-44e6-b9ab-bd0e91cc792b",
   "metadata": {
    "jp-MarkdownHeadingCollapsed": true
   },
   "source": [
    "### Prompt 7"
   ]
  },
  {
   "cell_type": "markdown",
   "id": "5b2f9ed6",
   "metadata": {},
   "source": [
    "Now introduce transportation costs from each factory to casino. Please ensure transportation costs from each factory to casino are evenly distributed. This involves adding transportation cost calculations and constraints to balance these costs across all factory-casino pairs."
   ]
  }
 ],
 "metadata": {
  "kernelspec": {
   "display_name": "Python 3 (ipykernel)",
   "language": "python",
   "name": "python3"
  },
  "language_info": {
   "codemirror_mode": {
    "name": "ipython",
    "version": 3
   },
   "file_extension": ".py",
   "mimetype": "text/x-python",
   "name": "python",
   "nbconvert_exporter": "python",
   "pygments_lexer": "ipython3",
   "version": "3.10.12"
  }
 },
 "nbformat": 4,
 "nbformat_minor": 5
}
